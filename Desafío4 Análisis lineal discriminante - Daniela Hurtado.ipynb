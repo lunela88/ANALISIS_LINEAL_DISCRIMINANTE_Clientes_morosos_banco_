{
 "cells": [
  {
   "cell_type": "markdown",
   "metadata": {},
   "source": [
    "# Desafío - Análisis lineal discriminante\n",
    "## Daniela Hurtado\n",
    "\n",
    "__Descripción__\n",
    "Trabajaremos con una base de datos sobre clientes morosos de un banco. Dentro de ésta se registran las siguientes observaciones:\n",
    "\n",
    "* default : Variable Binaria. Registra si el cliente entró en morosidad o no.\n",
    "* income : Ingreso promedio declarado por el cliente.\n",
    "* balance : total del sando en la cuenta de crédito.\n",
    "* student : Variable binaria. Registra si el cliente es estudiante o no.\n",
    "\n",
    "## Ejercicio 1: Preparación de ambiente de trabajo\n",
    "\n",
    "* Importe los módulos básicos para el análisis de datos.\n",
    "* Importe las clases LabelEncoder , StandardScaler y LabelBinarizer de preprocessing\n",
    "* Importe las funciones train_test_split y cross_val_score de model_selection\n",
    "* Importe la función classification_report de metrics\n",
    "* Importe las clases LinearDiscriminantAnalysis y QuadraticDiscriminantAnalysis .\n",
    "* Agregue la base de datos en el ambiente de trabajo.\n",
    "* Inspeccione la distribución de cada atributo"
   ]
  },
  {
   "cell_type": "code",
   "execution_count": 1,
   "metadata": {},
   "outputs": [],
   "source": [
    "import pandas as pd\n",
    "import numpy as np\n",
    "import matplotlib.pyplot as plt\n",
    "import seaborn as sns\n",
    "\n",
    "import warnings\n",
    "warnings.simplefilter('ignore')\n",
    "\n",
    "plt.rcParams['figure.figsize'] = (10,6)\n",
    "plt.style.use('seaborn')\n",
    "\n",
    "from sklearn.preprocessing import LabelEncoder #transforma etiquetas a numericas\n",
    "from sklearn.preprocessing import StandardScaler #Estandariza matrices de atributos\n",
    "from sklearn.preprocessing import LabelBinarizer\n",
    "\n",
    "from sklearn.model_selection import train_test_split # separa datos de entrenamiento y testeo\n",
    "from sklearn.model_selection import cross_val_score\n",
    "\n",
    "from sklearn.metrics import classification_report\n",
    "from sklearn.discriminant_analysis import LinearDiscriminantAnalysis# efecto lineal\n",
    "from sklearn.discriminant_analysis import QuadraticDiscriminantAnalysis"
   ]
  },
  {
   "cell_type": "code",
   "execution_count": 2,
   "metadata": {},
   "outputs": [],
   "source": [
    "df = pd.read_csv('default_credit.csv')"
   ]
  },
  {
   "cell_type": "code",
   "execution_count": 3,
   "metadata": {},
   "outputs": [
    {
     "data": {
      "text/html": [
       "<div>\n",
       "<style scoped>\n",
       "    .dataframe tbody tr th:only-of-type {\n",
       "        vertical-align: middle;\n",
       "    }\n",
       "\n",
       "    .dataframe tbody tr th {\n",
       "        vertical-align: top;\n",
       "    }\n",
       "\n",
       "    .dataframe thead th {\n",
       "        text-align: right;\n",
       "    }\n",
       "</style>\n",
       "<table border=\"1\" class=\"dataframe\">\n",
       "  <thead>\n",
       "    <tr style=\"text-align: right;\">\n",
       "      <th></th>\n",
       "      <th>index</th>\n",
       "      <th>default</th>\n",
       "      <th>student</th>\n",
       "      <th>balance</th>\n",
       "      <th>income</th>\n",
       "    </tr>\n",
       "  </thead>\n",
       "  <tbody>\n",
       "    <tr>\n",
       "      <th>0</th>\n",
       "      <td>1</td>\n",
       "      <td>No</td>\n",
       "      <td>No</td>\n",
       "      <td>729.526495</td>\n",
       "      <td>44361.625074</td>\n",
       "    </tr>\n",
       "    <tr>\n",
       "      <th>1</th>\n",
       "      <td>2</td>\n",
       "      <td>No</td>\n",
       "      <td>Yes</td>\n",
       "      <td>817.180407</td>\n",
       "      <td>12106.134700</td>\n",
       "    </tr>\n",
       "    <tr>\n",
       "      <th>2</th>\n",
       "      <td>3</td>\n",
       "      <td>No</td>\n",
       "      <td>No</td>\n",
       "      <td>1073.549164</td>\n",
       "      <td>31767.138947</td>\n",
       "    </tr>\n",
       "    <tr>\n",
       "      <th>3</th>\n",
       "      <td>4</td>\n",
       "      <td>No</td>\n",
       "      <td>No</td>\n",
       "      <td>529.250605</td>\n",
       "      <td>35704.493935</td>\n",
       "    </tr>\n",
       "    <tr>\n",
       "      <th>4</th>\n",
       "      <td>5</td>\n",
       "      <td>No</td>\n",
       "      <td>No</td>\n",
       "      <td>785.655883</td>\n",
       "      <td>38463.495879</td>\n",
       "    </tr>\n",
       "  </tbody>\n",
       "</table>\n",
       "</div>"
      ],
      "text/plain": [
       "   index default student      balance        income\n",
       "0      1      No      No   729.526495  44361.625074\n",
       "1      2      No     Yes   817.180407  12106.134700\n",
       "2      3      No      No  1073.549164  31767.138947\n",
       "3      4      No      No   529.250605  35704.493935\n",
       "4      5      No      No   785.655883  38463.495879"
      ]
     },
     "execution_count": 3,
     "metadata": {},
     "output_type": "execute_result"
    }
   ],
   "source": [
    "df.head()"
   ]
  },
  {
   "cell_type": "code",
   "execution_count": 4,
   "metadata": {},
   "outputs": [],
   "source": [
    "df =df.drop('index', axis=1)"
   ]
  },
  {
   "cell_type": "code",
   "execution_count": 5,
   "metadata": {},
   "outputs": [
    {
     "name": "stdout",
     "output_type": "stream",
     "text": [
      "<class 'pandas.core.frame.DataFrame'>\n",
      "RangeIndex: 10000 entries, 0 to 9999\n",
      "Data columns (total 4 columns):\n",
      "default    10000 non-null object\n",
      "student    10000 non-null object\n",
      "balance    10000 non-null float64\n",
      "income     10000 non-null float64\n",
      "dtypes: float64(2), object(2)\n",
      "memory usage: 312.6+ KB\n"
     ]
    }
   ],
   "source": [
    "df.info()"
   ]
  },
  {
   "cell_type": "markdown",
   "metadata": {},
   "source": [
    "__Histogramas__"
   ]
  },
  {
   "cell_type": "code",
   "execution_count": 6,
   "metadata": {},
   "outputs": [],
   "source": [
    "def plot_hist(dataframe, variable):\n",
    "    '''\n",
    "    Docstring: La función plot_hist tiene como parametros: un dataframe y la variable a analizar,\n",
    "    como resultado entregara un histograma con los valores de la variable, la media y la mediana.\n",
    "    '''\n",
    "    tmp = dataframe[variable].dropna()\n",
    "    media = np.mean(tmp)\n",
    "    mediana = np.median(tmp)\n",
    "    \n",
    "    plt.hist(tmp, alpha=.6, color='skyblue')\n",
    "    plt.axvline(media, color='blue', linestyle='--', lw=2, label='Media {}'.format(round(media, 2)))\n",
    "    plt.axvline(mediana, color='fuchsia', linestyle='--', lw=2, label='Mediana {}'.format(round(mediana, 2)))\n",
    "    plt.title('Histograma {}'.format(variable))\n",
    "    plt.legend()\n",
    "    plt.show()"
   ]
  },
  {
   "cell_type": "code",
   "execution_count": 7,
   "metadata": {},
   "outputs": [
    {
     "data": {
      "image/png": "[encoded data removed]",
      "text/plain": [
       "<Figure size 432x288 with 1 Axes>"
      ]
     },
     "metadata": {
      "needs_background": "light"
     },
     "output_type": "display_data"
    },
    {
     "data": {
      "image/png": "[encoded data removed]",
      "text/plain": [
       "<Figure size 432x288 with 1 Axes>"
      ]
     },
     "metadata": {
      "needs_background": "light"
     },
     "output_type": "display_data"
    }
   ],
   "source": [
    "continuas = ['balance', 'income']\n",
    "for i in continuas:\n",
    "    plot_hist(df, i)"
   ]
  },
  {
   "cell_type": "markdown",
   "metadata": {},
   "source": [
    "__Boxplot__"
   ]
  },
  {
   "cell_type": "code",
   "execution_count": 8,
   "metadata": {},
   "outputs": [],
   "source": [
    "def boxplot(dataframe,variable):\n",
    "    sns.boxplot(x=dataframe[variable])\n",
    "    plt.show()"
   ]
  },
  {
   "cell_type": "code",
   "execution_count": 9,
   "metadata": {},
   "outputs": [
    {
     "data": {
      "image/png": "[encoded data removed]",
      "text/plain": [
       "<Figure size 432x288 with 1 Axes>"
      ]
     },
     "metadata": {
      "needs_background": "light"
     },
     "output_type": "display_data"
    },
    {
     "data": {
      "image/png": "[encoded data removed]",
      "text/plain": [
       "<Figure size 432x288 with 1 Axes>"
      ]
     },
     "metadata": {
      "needs_background": "light"
     },
     "output_type": "display_data"
    }
   ],
   "source": [
    "for i in continuas:\n",
    "    boxplot(df,i)\n",
    "    "
   ]
  },
  {
   "cell_type": "markdown",
   "metadata": {},
   "source": [
    "__Graficos de Barra__"
   ]
  },
  {
   "cell_type": "code",
   "execution_count": 10,
   "metadata": {},
   "outputs": [],
   "source": [
    "def grafico_barras(dataframe, variable):\n",
    "    '''\n",
    "    Docstring: La funcion grafico_barras tiene como parámetros un dataframe y la variable a analizar,\n",
    "    como resultado nos entregará un grafico de barras con los valores de la variable.\n",
    "    '''\n",
    "    plt.figure()\n",
    "    sns.countplot(y = dataframe[variable],\n",
    "                 order = dataframe[variable].value_counts().index) "
   ]
  },
  {
   "cell_type": "code",
   "execution_count": 11,
   "metadata": {},
   "outputs": [
    {
     "data": {
      "image/png": "[encoded data removed]",
      "text/plain": [
       "<Figure size 432x288 with 1 Axes>"
      ]
     },
     "metadata": {
      "needs_background": "light"
     },
     "output_type": "display_data"
    },
    {
     "data": {
      "image/png": "[encoded data removed]",
      "text/plain": [
       "<Figure size 432x288 with 1 Axes>"
      ]
     },
     "metadata": {
      "needs_background": "light"
     },
     "output_type": "display_data"
    }
   ],
   "source": [
    "categoricas = ['default', 'student']\n",
    "for i in categoricas:\n",
    "    grafico_barras(df, i)"
   ]
  },
  {
   "cell_type": "markdown",
   "metadata": {},
   "source": [
    "## Ejercicio 2: Modelo base\n",
    "\n",
    "* Recuerde que los modelos de sklearn no soportan datos que no sean numéricos. Transforme los atributos pertinentes con LabelEncoder .\n",
    "* Genere muestras de validación y entrenamiento, reservando un 33% de los datos como validación.\n",
    "* Genere un modelo con LinearDiscriminantAnalysis sin modificar los hiperparámetros.\n",
    "* Genere métricas de evaluación utilizando classification_report .\n",
    "* Comente sobre cuál es el desempeño del modelo en cada clase, así como en general."
   ]
  },
  {
   "cell_type": "code",
   "execution_count": 12,
   "metadata": {},
   "outputs": [
    {
     "data": {
      "text/plain": [
       "No     9667\n",
       "Yes     333\n",
       "Name: default, dtype: int64"
      ]
     },
     "execution_count": 12,
     "metadata": {},
     "output_type": "execute_result"
    }
   ],
   "source": [
    "# hacemos un value_counts para ver la cantidad de datos de la variable default\n",
    "df['default'].value_counts()"
   ]
  },
  {
   "cell_type": "code",
   "execution_count": 13,
   "metadata": {},
   "outputs": [],
   "source": [
    "# reemplazamos a numericos\n",
    "df['default'] = LabelEncoder().fit_transform(df['default'])\n",
    "df['student'] = LabelEncoder().fit_transform(df['student'])"
   ]
  },
  {
   "cell_type": "code",
   "execution_count": 14,
   "metadata": {},
   "outputs": [
    {
     "data": {
      "text/plain": [
       "0    9667\n",
       "1     333\n",
       "Name: default, dtype: int64"
      ]
     },
     "execution_count": 14,
     "metadata": {},
     "output_type": "execute_result"
    }
   ],
   "source": [
    "# hacemos un nuevo value_counts() para saber cual variable es 0 y cual es 1\n",
    "df['default'].value_counts()"
   ]
  },
  {
   "cell_type": "code",
   "execution_count": 34,
   "metadata": {},
   "outputs": [],
   "source": [
    "# creamos los datos de entrenamiento y testeo\n",
    "X_train, X_test, y_train, y_test = train_test_split(df.loc[:,'student':'income'],\n",
    "                                                    df['default'], test_size=.33, random_state=23748)"
   ]
  },
  {
   "cell_type": "code",
   "execution_count": 35,
   "metadata": {},
   "outputs": [
    {
     "data": {
      "text/plain": [
       "LinearDiscriminantAnalysis(n_components=None, priors=None, shrinkage=None,\n",
       "              solver='svd', store_covariance=False, tol=0.0001)"
      ]
     },
     "execution_count": 35,
     "metadata": {},
     "output_type": "execute_result"
    }
   ],
   "source": [
    "# instanciamos el modelo  con LinearDiscriminantAnalysis sin modificar los hiperparámetros\n",
    "lda_model = LinearDiscriminantAnalysis()\n",
    "# entrenamos el modelo\n",
    "lda_model.fit(X_train, y_train)"
   ]
  },
  {
   "cell_type": "code",
   "execution_count": 36,
   "metadata": {},
   "outputs": [
    {
     "data": {
      "text/plain": [
       "array([0, 0, 0, ..., 0, 0, 0])"
      ]
     },
     "execution_count": 36,
     "metadata": {},
     "output_type": "execute_result"
    }
   ],
   "source": [
    "# mediaremos el desempeño. Guardaremos las predicciones de clases\n",
    "lda_class_pred = lda_model.predict(X_test)\n",
    "lda_class_pred"
   ]
  },
  {
   "cell_type": "code",
   "execution_count": 37,
   "metadata": {},
   "outputs": [
    {
     "name": "stdout",
     "output_type": "stream",
     "text": [
      "              precision    recall  f1-score   support\n",
      "\n",
      "           0       0.97      1.00      0.99      3184\n",
      "           1       0.83      0.22      0.34       116\n",
      "\n",
      "   micro avg       0.97      0.97      0.97      3300\n",
      "   macro avg       0.90      0.61      0.66      3300\n",
      "weighted avg       0.97      0.97      0.96      3300\n",
      "\n"
     ]
    }
   ],
   "source": [
    "# Reporte clasificación\n",
    "print(classification_report(y_test, lda_class_pred))"
   ]
  },
  {
   "cell_type": "code",
   "execution_count": 38,
   "metadata": {},
   "outputs": [
    {
     "name": "stdout",
     "output_type": "stream",
     "text": [
      "Probabilidades a priori\n",
      " [0.96761194 0.03238806] \n",
      "\n",
      "Medias de atributos en cada clase\n",
      " [[2.900000e-01 8.028200e+02 3.355924e+04]\n",
      " [4.100000e-01 1.759110e+03 3.084479e+04]] \n",
      "\n",
      "Varianza explicada por cada discriminante\n",
      " [1.] \n",
      "\n"
     ]
    }
   ],
   "source": [
    "print(\"Probabilidades a priori\\n\", lda_model.priors_, \"\\n\")\n",
    "print(\"Medias de atributos en cada clase\\n\", lda_model.means_.round(2), \"\\n\")\n",
    "print(\"Varianza explicada por cada discriminante\\n\", lda_model.explained_variance_ratio_.round(2), \"\\n\")"
   ]
  },
  {
   "cell_type": "markdown",
   "metadata": {},
   "source": [
    "## Ejercicio 3: Refactorización 1 - información a priori\n",
    "\n",
    "* Dado que trabajamos con modelos generativos, podemos incluír información exógena. Para este caso agregaremos dos distribuciones:\n",
    "    * Asumamos que hay un 50/50 de morosos y no morosos.\n",
    "    * Asumamos que hay un 60/40 de morosos y no morosos.\n",
    "* Por cada modelo, reporte las métricas de clasificación."
   ]
  },
  {
   "cell_type": "markdown",
   "metadata": {},
   "source": [
    "__Modelo 50/50__"
   ]
  },
  {
   "cell_type": "code",
   "execution_count": 39,
   "metadata": {},
   "outputs": [
    {
     "data": {
      "text/plain": [
       "LinearDiscriminantAnalysis(n_components=None, priors=[0.5, 0.5],\n",
       "              shrinkage=None, solver='svd', store_covariance=False,\n",
       "              tol=0.0001)"
      ]
     },
     "execution_count": 39,
     "metadata": {},
     "output_type": "execute_result"
    }
   ],
   "source": [
    "lda_model_1= LinearDiscriminantAnalysis(priors = [0.5, 0.5])\n",
    "lda_model_1.fit(X_train, y_train)"
   ]
  },
  {
   "cell_type": "code",
   "execution_count": 40,
   "metadata": {},
   "outputs": [
    {
     "data": {
      "text/plain": [
       "array([0, 0, 0, ..., 1, 0, 0])"
      ]
     },
     "execution_count": 40,
     "metadata": {},
     "output_type": "execute_result"
    }
   ],
   "source": [
    "# mediaremos el desempeño. Guardaremos las predicciones de clases\n",
    "lda_class_pred_1 = lda_model_1.predict(X_test)\n",
    "lda_class_pred_1"
   ]
  },
  {
   "cell_type": "code",
   "execution_count": 41,
   "metadata": {},
   "outputs": [
    {
     "name": "stdout",
     "output_type": "stream",
     "text": [
      "              precision    recall  f1-score   support\n",
      "\n",
      "           0       1.00      0.85      0.92      3184\n",
      "           1       0.18      0.91      0.30       116\n",
      "\n",
      "   micro avg       0.85      0.85      0.85      3300\n",
      "   macro avg       0.59      0.88      0.61      3300\n",
      "weighted avg       0.97      0.85      0.89      3300\n",
      "\n"
     ]
    }
   ],
   "source": [
    "# Reporte clasificación\n",
    "print(classification_report(y_test, lda_class_pred_1))"
   ]
  },
  {
   "cell_type": "markdown",
   "metadata": {},
   "source": [
    "__Modelo 60/40__"
   ]
  },
  {
   "cell_type": "code",
   "execution_count": 42,
   "metadata": {},
   "outputs": [
    {
     "data": {
      "text/plain": [
       "LinearDiscriminantAnalysis(n_components=None, priors=[0.6, 0.4],\n",
       "              shrinkage=None, solver='svd', store_covariance=False,\n",
       "              tol=0.0001)"
      ]
     },
     "execution_count": 42,
     "metadata": {},
     "output_type": "execute_result"
    }
   ],
   "source": [
    "lda_model_2= LinearDiscriminantAnalysis(priors = [0.6, 0.4])\n",
    "lda_model_2.fit(X_train, y_train)"
   ]
  },
  {
   "cell_type": "code",
   "execution_count": 45,
   "metadata": {},
   "outputs": [
    {
     "data": {
      "text/plain": [
       "array([0, 0, 0, ..., 1, 0, 0])"
      ]
     },
     "execution_count": 45,
     "metadata": {},
     "output_type": "execute_result"
    }
   ],
   "source": [
    "# mediaremos el desempeño. Guardaremos las predicciones de clases\n",
    "lda_class_pred_2 = lda_model_2.predict(X_test)\n",
    "lda_class_pred_2"
   ]
  },
  {
   "cell_type": "code",
   "execution_count": 46,
   "metadata": {},
   "outputs": [
    {
     "name": "stdout",
     "output_type": "stream",
     "text": [
      "              precision    recall  f1-score   support\n",
      "\n",
      "           0       0.99      0.88      0.94      3184\n",
      "           1       0.21      0.85      0.34       116\n",
      "\n",
      "   micro avg       0.88      0.88      0.88      3300\n",
      "   macro avg       0.60      0.87      0.64      3300\n",
      "weighted avg       0.97      0.88      0.91      3300\n",
      "\n"
     ]
    }
   ],
   "source": [
    "# Reporte clasificación\n",
    "print(classification_report(y_test, lda_class_pred_2))"
   ]
  },
  {
   "cell_type": "markdown",
   "metadata": {},
   "source": [
    "## Ejercicio 4: Refactorización 2 - oversampling"
   ]
  },
  {
   "cell_type": "markdown",
   "metadata": {},
   "source": [
    "* Uno de los problemas más graves de esta base de datos, es el fuerte desbalance entre clases.\n",
    "Ahora generaremos observaciones sintéticas mediante SMOTE (Synthetic Minority\n",
    "Oversampling Technique). Para ello, debemos agregar el paquete a nuestro ambiente virtual. En\n",
    "nuestro terminal agregamos conda install -c conda-forge imbalanced-learn . Incorpore\n",
    "SMOTE en el ambiente de trabajo con la siguiente sintáxis from imblearn.over_sampling\n",
    "import SMOTE .\n",
    "* Para implementar oversampling, debemos generar nuevos objetos que representan nuestra\n",
    "muestra de entrenamiento incrementada artificialmente. Para ello implemente la siguiente\n",
    "sintáxis:\n",
    "\n",
    "from imblearn.over_sampling import SMOTE\n",
    "\n",
    "#Instanciamos la clase\n",
    "\n",
    "oversampler = SMOTE(random_state=11238, ratio='minority')\n",
    "\n",
    "#generamos el eversampling de la matriz de entrenamiento y\n",
    "\n",
    "X_train_oversamp, y_train_oversamp = oversampler.fit_sample(X_train, y_train)\n",
    "\n",
    "* Vuelva a entrenar el modelo con los datos aumentados de forma artificial y comente sobre su\n",
    "desempeño."
   ]
  },
  {
   "cell_type": "code",
   "execution_count": 47,
   "metadata": {},
   "outputs": [],
   "source": [
    "from imblearn.over_sampling import SMOTE "
   ]
  },
  {
   "cell_type": "code",
   "execution_count": 48,
   "metadata": {},
   "outputs": [],
   "source": [
    "# Instanciamos la clase\n",
    "oversampler = SMOTE(random_state=11238, ratio='minority')\n",
    "# generamos el oversampling de la matriz de entrenamiento y\n",
    "X_train_oversamp, y_train_oversamp = oversampler.fit_sample(X_train, y_train)"
   ]
  },
  {
   "cell_type": "code",
   "execution_count": 49,
   "metadata": {},
   "outputs": [
    {
     "data": {
      "text/plain": [
       "LinearDiscriminantAnalysis(n_components=None, priors=None, shrinkage=None,\n",
       "              solver='svd', store_covariance=False, tol=0.0001)"
      ]
     },
     "execution_count": 49,
     "metadata": {},
     "output_type": "execute_result"
    }
   ],
   "source": [
    "lda_model_3 = LinearDiscriminantAnalysis()\n",
    "lda_model_3.fit(X_train_oversamp, y_train_oversamp)"
   ]
  },
  {
   "cell_type": "code",
   "execution_count": 50,
   "metadata": {},
   "outputs": [
    {
     "data": {
      "text/plain": [
       "array([0, 0, 0, ..., 1, 0, 0])"
      ]
     },
     "execution_count": 50,
     "metadata": {},
     "output_type": "execute_result"
    }
   ],
   "source": [
    "# mediaremos el desempeño. Guardaremos las predicciones de clases\n",
    "lda_class_pred_3 = lda_model_3.predict(X_test)\n",
    "lda_class_pred_3"
   ]
  },
  {
   "cell_type": "code",
   "execution_count": 51,
   "metadata": {},
   "outputs": [
    {
     "name": "stdout",
     "output_type": "stream",
     "text": [
      "              precision    recall  f1-score   support\n",
      "\n",
      "           0       1.00      0.85      0.92      3184\n",
      "           1       0.18      0.91      0.30       116\n",
      "\n",
      "   micro avg       0.85      0.85      0.85      3300\n",
      "   macro avg       0.59      0.88      0.61      3300\n",
      "weighted avg       0.97      0.85      0.90      3300\n",
      "\n"
     ]
    }
   ],
   "source": [
    "# Reporte clasificación\n",
    "print(classification_report(y_test, lda_class_pred_3))"
   ]
  },
  {
   "cell_type": "markdown",
   "metadata": {},
   "source": [
    "* Con Precision, Recall y F1 logramos caracterizar las tasas de predicción exitosa del modelo.\n",
    "\n",
    "\n",
    "\n",
    "* __Precision__ ¿Qué proporción de identificaciones positivas fue correcta?\n",
    "\n",
    "El reporte entrega valores altos en cuanto a los clientes no morosos, lo que significa que el algoritmo predice más resultados relevantes que irrelevantes. No asi con los clientes morosos ya que alcanza solo un 0.18 acertando solo en un 18% la predicción de estos clientes.\n",
    "\n",
    "* __Recall__ ¿Qué proporción de positivos reales se identificó correctamente?\n",
    "\n",
    "Nuestro modelo tiene una recuperación de 0.91. Es decir, identifica correctamente el 91% de los clientes morosos.\n",
    "\n"
   ]
  },
  {
   "cell_type": "markdown",
   "metadata": {},
   "source": [
    "## Ejercicio 5: Refactorización 3 - QDA\n",
    "\n",
    "* Por último, implemente un modelo QuadraticDiscriminantAnalysis con los datos aumentados artificialmente. Genere las métricas de desempeño.\n",
    "\n",
    "* Comente a grandes rasgos sobre el mejor modelo en su capacidad predictiva."
   ]
  },
  {
   "cell_type": "code",
   "execution_count": 52,
   "metadata": {},
   "outputs": [
    {
     "data": {
      "text/plain": [
       "array([0, 0, 0, ..., 1, 0, 0])"
      ]
     },
     "execution_count": 52,
     "metadata": {},
     "output_type": "execute_result"
    }
   ],
   "source": [
    "qda_model = QuadraticDiscriminantAnalysis()\n",
    "qda_model.fit(X_train_oversamp, y_train_oversamp)\n",
    "qda_predict = qda_model.predict(X_test)\n",
    "qda_predict"
   ]
  },
  {
   "cell_type": "code",
   "execution_count": 53,
   "metadata": {},
   "outputs": [
    {
     "name": "stdout",
     "output_type": "stream",
     "text": [
      "              precision    recall  f1-score   support\n",
      "\n",
      "           0       0.99      0.88      0.93      3184\n",
      "           1       0.21      0.86      0.33       116\n",
      "\n",
      "   micro avg       0.88      0.88      0.88      3300\n",
      "   macro avg       0.60      0.87      0.63      3300\n",
      "weighted avg       0.97      0.88      0.91      3300\n",
      "\n"
     ]
    }
   ],
   "source": [
    "# Reporte clasificación\n",
    "print(classification_report(y_test, qda_predict))"
   ]
  },
  {
   "cell_type": "markdown",
   "metadata": {},
   "source": [
    "Las metricas cambiaron levemente. En cuanto a los no morosos disminuyó precision y aumento recall, de manera contraria en los\n",
    "morosos aumento precision y disminuyo recall\n"
   ]
  },
  {
   "cell_type": "code",
   "execution_count": null,
   "metadata": {},
   "outputs": [],
   "source": []
  },
  {
   "cell_type": "code",
   "execution_count": null,
   "metadata": {},
   "outputs": [],
   "source": []
  },
  {
   "cell_type": "code",
   "execution_count": null,
   "metadata": {},
   "outputs": [],
   "source": []
  },
  {
   "cell_type": "code",
   "execution_count": null,
   "metadata": {},
   "outputs": [],
   "source": []
  }
 ],
 "metadata": {
  "kernelspec": {
   "display_name": "Python 3",
   "language": "python",
   "name": "python3"
  },
  "language_info": {
   "codemirror_mode": {
    "name": "ipython",
    "version": 3
   },
   "file_extension": ".py",
   "mimetype": "text/x-python",
   "name": "python",
   "nbconvert_exporter": "python",
   "pygments_lexer": "ipython3",
   "version": "3.7.4"
  }
 },
 "nbformat": 4,
 "nbformat_minor": 2
}
